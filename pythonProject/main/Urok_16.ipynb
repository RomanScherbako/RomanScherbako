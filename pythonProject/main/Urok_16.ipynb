{
 "cells": [
  {
   "cell_type": "markdown",
   "id": "88a47cf6",
   "metadata": {},
   "source": [
    "# Итератор"
   ]
  },
  {
   "cell_type": "code",
   "execution_count": 1,
   "id": "5000e603",
   "metadata": {},
   "outputs": [],
   "source": [
    "r = range(10)"
   ]
  },
  {
   "cell_type": "code",
   "execution_count": null,
   "id": "aec31c3f",
   "metadata": {},
   "outputs": [],
   "source": [
    "for item in r:\n",
    "    print(item)"
   ]
  },
  {
   "cell_type": "markdown",
   "id": "dc5a3094",
   "metadata": {},
   "source": [
    "* iter — возвращает объект итератора (итератор)\n",
    "* next — возвращает следующий элемент итератора"
   ]
  },
  {
   "cell_type": "code",
   "execution_count": 2,
   "id": "fb5ec90e",
   "metadata": {},
   "outputs": [],
   "source": [
    "r_iter = iter(r)"
   ]
  },
  {
   "cell_type": "code",
   "execution_count": 3,
   "id": "a12fe725",
   "metadata": {},
   "outputs": [
    {
     "data": {
      "text/plain": [
       "<range_iterator at 0x105633ba0>"
      ]
     },
     "execution_count": 3,
     "metadata": {},
     "output_type": "execute_result"
    }
   ],
   "source": [
    "r_iter"
   ]
  },
  {
   "cell_type": "code",
   "execution_count": 14,
   "id": "911483c3",
   "metadata": {},
   "outputs": [
    {
     "ename": "StopIteration",
     "evalue": "",
     "output_type": "error",
     "traceback": [
      "\u001b[0;31m---------------------------------------------------------------------------\u001b[0m",
      "\u001b[0;31mStopIteration\u001b[0m                             Traceback (most recent call last)",
      "Input \u001b[0;32mIn [14]\u001b[0m, in \u001b[0;36m<cell line: 1>\u001b[0;34m()\u001b[0m\n\u001b[0;32m----> 1\u001b[0m \u001b[38;5;28;43mnext\u001b[39;49m\u001b[43m(\u001b[49m\u001b[43mr_iter\u001b[49m\u001b[43m)\u001b[49m\n",
      "\u001b[0;31mStopIteration\u001b[0m: "
     ]
    }
   ],
   "source": [
    "next(r_iter)"
   ]
  },
  {
   "cell_type": "code",
   "execution_count": null,
   "id": "65fc3b0b",
   "metadata": {},
   "outputs": [],
   "source": [
    "for item in range(1_000_000_000):\n",
    "    print(item)"
   ]
  },
  {
   "cell_type": "code",
   "execution_count": 16,
   "id": "6deb9ccd",
   "metadata": {},
   "outputs": [],
   "source": [
    "def my_range(n):\n",
    "    l = []\n",
    "    counter = 0\n",
    "    while counter < n:\n",
    "        l.append(counter)\n",
    "        counter += 1\n",
    "    return l"
   ]
  },
  {
   "cell_type": "code",
   "execution_count": 20,
   "id": "8121f92a",
   "metadata": {},
   "outputs": [
    {
     "name": "stderr",
     "output_type": "stream",
     "text": [
      "\n",
      "KeyboardInterrupt\n",
      "\n"
     ]
    }
   ],
   "source": [
    "for item in range(1_000_000_000):\n",
    "    print(item)"
   ]
  },
  {
   "cell_type": "markdown",
   "id": "ce36d058",
   "metadata": {},
   "source": [
    "# Генераторы"
   ]
  },
  {
   "cell_type": "code",
   "execution_count": 42,
   "id": "519c0784",
   "metadata": {},
   "outputs": [],
   "source": [
    "def my_gen():\n",
    "    yield 3\n",
    "    yield 8\n",
    "    yield 11\n",
    "    yield 5\n",
    "    yield 7"
   ]
  },
  {
   "cell_type": "code",
   "execution_count": 43,
   "id": "ff904b14",
   "metadata": {},
   "outputs": [],
   "source": [
    "my_gen_iter = iter(my_gen())\n",
    "a = next(my_gen_iter)"
   ]
  },
  {
   "cell_type": "code",
   "execution_count": 33,
   "id": "69b39514",
   "metadata": {},
   "outputs": [
    {
     "name": "stdout",
     "output_type": "stream",
     "text": [
      "3\n",
      "8\n",
      "11\n",
      "5\n",
      "7\n"
     ]
    }
   ],
   "source": [
    "for i in my_gen():\n",
    "    print(i)"
   ]
  },
  {
   "cell_type": "code",
   "execution_count": 34,
   "id": "5d84d9ff",
   "metadata": {},
   "outputs": [
    {
     "data": {
      "text/plain": [
       "[3, 8, 11, 5, 7]"
      ]
     },
     "execution_count": 34,
     "metadata": {},
     "output_type": "execute_result"
    }
   ],
   "source": [
    "list(my_gen())"
   ]
  },
  {
   "cell_type": "markdown",
   "id": "648d699c",
   "metadata": {},
   "source": [
    "# my_range(start: int, end: int, step: int = 1)\n",
    "# с использованием генераторов (не создавая список внутри)"
   ]
  },
  {
   "cell_type": "code",
   "execution_count": 49,
   "id": "eaeac3e1",
   "metadata": {},
   "outputs": [],
   "source": [
    "def my_range(start: int, end: int, step: int = 1):\n",
    "    for i in range(_from, to, step):\n",
    "        yield i"
   ]
  },
  {
   "cell_type": "code",
   "execution_count": 51,
   "id": "dfade10e",
   "metadata": {},
   "outputs": [
    {
     "ename": "TypeError",
     "evalue": "my_range() missing 1 required positional argument: 'to'",
     "output_type": "error",
     "traceback": [
      "\u001b[0;31m---------------------------------------------------------------------------\u001b[0m",
      "\u001b[0;31mTypeError\u001b[0m                                 Traceback (most recent call last)",
      "Input \u001b[0;32mIn [51]\u001b[0m, in \u001b[0;36m<cell line: 1>\u001b[0;34m()\u001b[0m\n\u001b[0;32m----> 1\u001b[0m \u001b[38;5;28mprint\u001b[39m(\u001b[38;5;28mlist\u001b[39m(\u001b[38;5;28mrange\u001b[39m(\u001b[38;5;241m10\u001b[39m)) \u001b[38;5;241m==\u001b[39m \u001b[38;5;28mlist\u001b[39m(\u001b[43mmy_range\u001b[49m\u001b[43m(\u001b[49m\u001b[38;5;241;43m10\u001b[39;49m\u001b[43m)\u001b[49m))\n\u001b[1;32m      2\u001b[0m \u001b[38;5;28mprint\u001b[39m(\u001b[38;5;28mlist\u001b[39m(\u001b[38;5;28mrange\u001b[39m(\u001b[38;5;241m10\u001b[39m, \u001b[38;5;241m20\u001b[39m)) \u001b[38;5;241m==\u001b[39m \u001b[38;5;28mlist\u001b[39m(my_range(\u001b[38;5;241m10\u001b[39m, \u001b[38;5;241m20\u001b[39m)))\n\u001b[1;32m      3\u001b[0m \u001b[38;5;28mprint\u001b[39m(\u001b[38;5;28mlist\u001b[39m(\u001b[38;5;28mrange\u001b[39m(\u001b[38;5;241m20\u001b[39m, \u001b[38;5;241m10\u001b[39m, \u001b[38;5;241m-\u001b[39m\u001b[38;5;241m1\u001b[39m)) \u001b[38;5;241m==\u001b[39m \u001b[38;5;28mlist\u001b[39m(my_range(\u001b[38;5;241m20\u001b[39m, \u001b[38;5;241m10\u001b[39m, \u001b[38;5;241m-\u001b[39m\u001b[38;5;241m1\u001b[39m)))\n",
      "\u001b[0;31mTypeError\u001b[0m: my_range() missing 1 required positional argument: 'to'"
     ]
    }
   ],
   "source": [
    "print(list(range(10)) == list(my_range(10)))\n",
    "print(list(range(10, 20)) == list(my_range(10, 20)))\n",
    "print(list(range(20, 10, -1)) == list(my_range(20, 10, -1)))\n",
    "print(list(range(20, 10)) == list(my_range(20, 10)))\n",
    "print(list(range(10, 20, -1)) == list(my_range(10, 20, -1)))\n",
    "print(list(range(10, 0, -3)) == list(my_range(10, 0, -3)))"
   ]
  },
  {
   "cell_type": "code",
   "execution_count": 52,
   "id": "492484ed",
   "metadata": {},
   "outputs": [
    {
     "name": "stdout",
     "output_type": "stream",
     "text": [
      "[0, 1, 2, 3, 4, 5, 6, 7, 8, 9]\n",
      "[10, 11, 12, 13, 14, 15, 16, 17, 18, 19]\n",
      "[20, 19, 18, 17, 16, 15, 14, 13, 12, 11]\n",
      "[]\n",
      "[]\n"
     ]
    }
   ],
   "source": [
    "print(list(range(10)))\n",
    "print(list(range(10, 20)))\n",
    "print(list(range(20, 10, -1)))\n",
    "print(list(range(20, 10)))\n",
    "print(list(range(10, 20, -1)))"
   ]
  },
  {
   "cell_type": "markdown",
   "id": "d82956e7",
   "metadata": {},
   "source": [
    "# Вариант оптимизации:\n",
    "- Вынести функцию которая принимает только один аргумент (end)\n",
    "- Вынести функцию которая работает со всеми аргументами\n",
    "- Использовать все три функции внутри my_range"
   ]
  },
  {
   "cell_type": "code",
   "execution_count": 108,
   "id": "a997d4af",
   "metadata": {},
   "outputs": [],
   "source": [
    "def my_range_end(stop):\n",
    "    counter = 0\n",
    "    while stop > counter:\n",
    "        yield counter\n",
    "        counter += 1"
   ]
  },
  {
   "cell_type": "code",
   "execution_count": 109,
   "id": "36b183ff",
   "metadata": {},
   "outputs": [],
   "source": [
    "def my_range_from_to(start, stop, step):\n",
    "    if step < 0:\n",
    "        while start > stop:\n",
    "            yield start\n",
    "            start = start + step\n",
    "    else:\n",
    "        while start < stop:\n",
    "            yield start\n",
    "            start = start + step"
   ]
  },
  {
   "cell_type": "code",
   "execution_count": 110,
   "id": "36a6c70e",
   "metadata": {},
   "outputs": [],
   "source": [
    "def my_range(start, stop=None, step=1):\n",
    "    if stop is None:\n",
    "        yield from my_range_end(start)\n",
    "    else:\n",
    "        yield from my_range_from_to(start, stop, step)"
   ]
  },
  {
   "cell_type": "code",
   "execution_count": 117,
   "id": "aa3442cc",
   "metadata": {},
   "outputs": [],
   "source": [
    "def my_range(from_, to = None, step = 1):\n",
    "    if to is None:\n",
    "        yield from my_range_one_arg(0, from_)\n",
    "    elif step > 0:\n",
    "        yield from my_range_positiv_step(from_, to, step)\n",
    "    else:\n",
    "        yield from my_range_negativ_step(from_, to, step)\n",
    "\n",
    "\n",
    "def my_range_one_arg(from_, to):\n",
    "    while from_ < to:\n",
    "        yield from_\n",
    "        from_ += 1\n",
    "\n",
    "\n",
    "def my_range_positiv_step(from_, to, step):\n",
    "    while from_ < to:\n",
    "        yield from_\n",
    "        from_ += step\n",
    "\n",
    "\n",
    "def my_range_negativ_step(from_, to, step):\n",
    "    while from_ > to:\n",
    "        yield from_\n",
    "        from_ += step"
   ]
  },
  {
   "cell_type": "code",
   "execution_count": 118,
   "id": "59c07b67",
   "metadata": {},
   "outputs": [
    {
     "name": "stdout",
     "output_type": "stream",
     "text": [
      "[0, 1, 2, 3, 4, 5, 6, 7, 8, 9]\n",
      "[10, 11, 12, 13, 14, 15, 16, 17, 18, 19]\n",
      "[11, 12, 13, 14, 15, 16, 17, 18, 19, 20]\n",
      "[]\n",
      "[]\n",
      "[1, 4, 7, 10]\n"
     ]
    }
   ],
   "source": [
    "print(list(my_range(10)))\n",
    "print(list(my_range(10, 20)))\n",
    "print(list(my_range(20, 10, -1)))\n",
    "print(list(my_range(20, 10)))\n",
    "print(list(my_range(10, 20, -1)))\n",
    "print(list(my_range(10, 0, -3)))"
   ]
  },
  {
   "cell_type": "code",
   "execution_count": null,
   "id": "eff70328",
   "metadata": {},
   "outputs": [],
   "source": []
  }
 ],
 "metadata": {
  "kernelspec": {
   "display_name": "Python 3 (ipykernel)",
   "language": "python",
   "name": "python3"
  },
  "language_info": {
   "codemirror_mode": {
    "name": "ipython",
    "version": 3
   },
   "file_extension": ".py",
   "mimetype": "text/x-python",
   "name": "python",
   "nbconvert_exporter": "python",
   "pygments_lexer": "ipython3",
   "version": "3.10.4"
  }
 },
 "nbformat": 4,
 "nbformat_minor": 5
}
